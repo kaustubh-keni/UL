{
 "cells": [
  {
   "cell_type": "markdown",
   "id": "cc8b54c7",
   "metadata": {},
   "source": [
    "<div>\n",
    "<img src=\"https://drive.google.com/uc?export=view&id=1vK33e_EqaHgBHcbRV_m38hx6IkG0blK_\" width=\"350\"/>\n",
    "</div> \n",
    "\n",
    "\n",
    "## CS6501  Machine Learning and Applications\n",
    "## SEM1 2022/3\n",
    "\n",
    "### CS6501 Etivity 1 - Data Preprocessing and Training a Machine Learning Model\n",
    "\n",
    "### Instructor: Emil Vassev\n",
    "Sept 13th, 2022\n",
    "<br><br>\n",
    "Copyright (C) 2022 - All rights reserved, do not copy or distribute without permission of the author.\n",
    "***"
   ]
  },
  {
   "cell_type": "markdown",
   "id": "a3f08832",
   "metadata": {},
   "source": [
    "## Submission Info\n",
    "### Student Name: <span style=\"color:red\"> KAUSTUBH</span>\n",
    "### Student Surname: <span style=\"color:red\"> KENI</span>\n",
    "### Student ID: <span style=\"color:red\"> 22175342</span>\n",
    "### Date of Final Submission: <span style=\"color:red\"> 16/10/2022</span>\n",
    "***"
   ]
  },
  {
   "cell_type": "markdown",
   "id": "dbf305e0",
   "metadata": {},
   "source": [
    "## Introduction\n",
    "Real-world datasets for ML are expected to be *incomplete*, *inconsistent*, and *noisy* due to their heterogeneous origin. Applying ML algorithms on such data would not give quality results as they would fail to identify patterns effectively.\n",
    "\n",
    "**Data Preprocessing** is a part of the ML process, which strives to improve the overall data quality by dealing with:\n",
    "* duplicate or missing values - such data may give an incorrect view of the overall statistics of data;\n",
    "* outliers and inconsistent data points - such data often tend to disturb the model’s overall learning and thus, leading to false predictions.\n",
    "\n",
    "Data Preprocessing targets ML features, which are:\n",
    "* individual independent variables operating as inputs to ML models;\n",
    "* representations or attributes that describe the data and help the models to predict the classes/labels.\n",
    "\n",
    "Example: features in a structured dataset (e.g., in a CSV format) refer to each column representing a measurable piece of data that can be used for analysis: name, age, sex, fare, etc.\n",
    "\n",
    "**Model Training** is a primary step in ML in which a ML algorithm is fed with sufficient training data to learn from. Model Training results in a working ML model that can then be validated, tested and deployed."
   ]
  },
  {
   "cell_type": "markdown",
   "id": "30c0e17e",
   "metadata": {},
   "source": [
    "### The Dataset\n",
    "\n",
    "The provided dataset covers bond trading operations (buy and sell) on a financial market. The data is labeled and provided in its raw format, so it needs to be preprocessed.\n",
    "\n",
    "The provided dataset can be loaded as following:"
   ]
  },
  {
   "cell_type": "markdown",
   "id": "760a6ea9",
   "metadata": {},
   "source": [
    "### Task\n",
    "In this e-tivity, you are asked to follow the ML process to:\n",
    "\n",
    "* preprocess a provided dataset, so it will become suitable for ML operations;\n",
    "* select an appropriate ML model, so it will cope with the specifics of data and ML tasks;\n",
    "* train the selected ML model on the preprocessed dataset;\n",
    "* test the selected ML model on the preprocessed dataset."
   ]
  },
  {
   "cell_type": "code",
   "execution_count": 38,
   "id": "f5ea7084",
   "metadata": {
    "scrolled": true
   },
   "outputs": [
    {
     "data": {
      "text/html": [
       "<div>\n",
       "<style scoped>\n",
       "    .dataframe tbody tr th:only-of-type {\n",
       "        vertical-align: middle;\n",
       "    }\n",
       "\n",
       "    .dataframe tbody tr th {\n",
       "        vertical-align: top;\n",
       "    }\n",
       "\n",
       "    .dataframe thead th {\n",
       "        text-align: right;\n",
       "    }\n",
       "</style>\n",
       "<table border=\"1\" class=\"dataframe\">\n",
       "  <thead>\n",
       "    <tr style=\"text-align: right;\">\n",
       "      <th></th>\n",
       "      <th>NoRelatedSym</th>\n",
       "      <th>Symbol</th>\n",
       "      <th>SymbolSfx</th>\n",
       "      <th>SecurityID</th>\n",
       "      <th>SecurityIDSource</th>\n",
       "      <th>SecurityType</th>\n",
       "      <th>MaturityDate</th>\n",
       "      <th>IssueDate</th>\n",
       "      <th>Side</th>\n",
       "      <th>OrderQty</th>\n",
       "      <th>...</th>\n",
       "      <th>NoPartIDs</th>\n",
       "      <th>PartyID</th>\n",
       "      <th>DealerID</th>\n",
       "      <th>DealerTraderID</th>\n",
       "      <th>CustomerTraderID</th>\n",
       "      <th>CustomerID</th>\n",
       "      <th>PartyIDSource</th>\n",
       "      <th>PartyRole</th>\n",
       "      <th>DealerCount</th>\n",
       "      <th>OrdSubType</th>\n",
       "    </tr>\n",
       "  </thead>\n",
       "  <tbody>\n",
       "    <tr>\n",
       "      <th>0</th>\n",
       "      <td>1</td>\n",
       "      <td>135087L93</td>\n",
       "      <td>WI</td>\n",
       "      <td>NaN</td>\n",
       "      <td>1</td>\n",
       "      <td>BOND</td>\n",
       "      <td>9/1/2026</td>\n",
       "      <td>4/16/2021 0:00</td>\n",
       "      <td>BUY</td>\n",
       "      <td>2400000</td>\n",
       "      <td>...</td>\n",
       "      <td>1</td>\n",
       "      <td>1</td>\n",
       "      <td>334</td>\n",
       "      <td>10792.0</td>\n",
       "      <td>6549</td>\n",
       "      <td>129</td>\n",
       "      <td>D</td>\n",
       "      <td>13</td>\n",
       "      <td>5</td>\n",
       "      <td>OUTRIGHT</td>\n",
       "    </tr>\n",
       "    <tr>\n",
       "      <th>1</th>\n",
       "      <td>1</td>\n",
       "      <td>135087L93</td>\n",
       "      <td>WI</td>\n",
       "      <td>NaN</td>\n",
       "      <td>1</td>\n",
       "      <td>BOND</td>\n",
       "      <td>9/1/2026</td>\n",
       "      <td>4/16/2021 0:00</td>\n",
       "      <td>BUY</td>\n",
       "      <td>2400000</td>\n",
       "      <td>...</td>\n",
       "      <td>1</td>\n",
       "      <td>1</td>\n",
       "      <td>335</td>\n",
       "      <td>117793.0</td>\n",
       "      <td>6549</td>\n",
       "      <td>129</td>\n",
       "      <td>D</td>\n",
       "      <td>13</td>\n",
       "      <td>5</td>\n",
       "      <td>OUTRIGHT</td>\n",
       "    </tr>\n",
       "    <tr>\n",
       "      <th>2</th>\n",
       "      <td>1</td>\n",
       "      <td>135087L93</td>\n",
       "      <td>WI</td>\n",
       "      <td>NaN</td>\n",
       "      <td>1</td>\n",
       "      <td>BOND</td>\n",
       "      <td>9/1/2026</td>\n",
       "      <td>4/16/2021 0:00</td>\n",
       "      <td>BUY</td>\n",
       "      <td>2400000</td>\n",
       "      <td>...</td>\n",
       "      <td>1</td>\n",
       "      <td>1</td>\n",
       "      <td>325</td>\n",
       "      <td>119290.0</td>\n",
       "      <td>6549</td>\n",
       "      <td>129</td>\n",
       "      <td>D</td>\n",
       "      <td>13</td>\n",
       "      <td>5</td>\n",
       "      <td>OUTRIGHT</td>\n",
       "    </tr>\n",
       "    <tr>\n",
       "      <th>3</th>\n",
       "      <td>1</td>\n",
       "      <td>135087L93</td>\n",
       "      <td>WI</td>\n",
       "      <td>NaN</td>\n",
       "      <td>1</td>\n",
       "      <td>BOND</td>\n",
       "      <td>9/1/2026</td>\n",
       "      <td>4/16/2021 0:00</td>\n",
       "      <td>BUY</td>\n",
       "      <td>2400000</td>\n",
       "      <td>...</td>\n",
       "      <td>1</td>\n",
       "      <td>1</td>\n",
       "      <td>327</td>\n",
       "      <td>113852.0</td>\n",
       "      <td>6549</td>\n",
       "      <td>129</td>\n",
       "      <td>D</td>\n",
       "      <td>13</td>\n",
       "      <td>5</td>\n",
       "      <td>OUTRIGHT</td>\n",
       "    </tr>\n",
       "    <tr>\n",
       "      <th>4</th>\n",
       "      <td>1</td>\n",
       "      <td>135087L93</td>\n",
       "      <td>WI</td>\n",
       "      <td>NaN</td>\n",
       "      <td>1</td>\n",
       "      <td>BOND</td>\n",
       "      <td>9/1/2026</td>\n",
       "      <td>4/16/2021 0:00</td>\n",
       "      <td>BUY</td>\n",
       "      <td>2400000</td>\n",
       "      <td>...</td>\n",
       "      <td>1</td>\n",
       "      <td>1</td>\n",
       "      <td>337</td>\n",
       "      <td>117795.0</td>\n",
       "      <td>6549</td>\n",
       "      <td>129</td>\n",
       "      <td>D</td>\n",
       "      <td>13</td>\n",
       "      <td>5</td>\n",
       "      <td>OUTRIGHT</td>\n",
       "    </tr>\n",
       "    <tr>\n",
       "      <th>5</th>\n",
       "      <td>1</td>\n",
       "      <td>135087M76</td>\n",
       "      <td>WI</td>\n",
       "      <td>NaN</td>\n",
       "      <td>1</td>\n",
       "      <td>BOND</td>\n",
       "      <td>11/1/2023</td>\n",
       "      <td>8/9/2021 0:00</td>\n",
       "      <td>SELL</td>\n",
       "      <td>15000000</td>\n",
       "      <td>...</td>\n",
       "      <td>1</td>\n",
       "      <td>1</td>\n",
       "      <td>325</td>\n",
       "      <td>119752.0</td>\n",
       "      <td>7019</td>\n",
       "      <td>277</td>\n",
       "      <td>D</td>\n",
       "      <td>13</td>\n",
       "      <td>4</td>\n",
       "      <td>OUTRIGHT</td>\n",
       "    </tr>\n",
       "    <tr>\n",
       "      <th>6</th>\n",
       "      <td>1</td>\n",
       "      <td>135087M76</td>\n",
       "      <td>WI</td>\n",
       "      <td>NaN</td>\n",
       "      <td>1</td>\n",
       "      <td>BOND</td>\n",
       "      <td>11/1/2023</td>\n",
       "      <td>8/9/2021 0:00</td>\n",
       "      <td>SELL</td>\n",
       "      <td>15000000</td>\n",
       "      <td>...</td>\n",
       "      <td>1</td>\n",
       "      <td>1</td>\n",
       "      <td>336</td>\n",
       "      <td>117794.0</td>\n",
       "      <td>7019</td>\n",
       "      <td>277</td>\n",
       "      <td>D</td>\n",
       "      <td>13</td>\n",
       "      <td>4</td>\n",
       "      <td>OUTRIGHT</td>\n",
       "    </tr>\n",
       "    <tr>\n",
       "      <th>7</th>\n",
       "      <td>1</td>\n",
       "      <td>135087M76</td>\n",
       "      <td>WI</td>\n",
       "      <td>NaN</td>\n",
       "      <td>1</td>\n",
       "      <td>BOND</td>\n",
       "      <td>11/1/2023</td>\n",
       "      <td>8/9/2021 0:00</td>\n",
       "      <td>SELL</td>\n",
       "      <td>15000000</td>\n",
       "      <td>...</td>\n",
       "      <td>1</td>\n",
       "      <td>1</td>\n",
       "      <td>323</td>\n",
       "      <td>117786.0</td>\n",
       "      <td>7019</td>\n",
       "      <td>277</td>\n",
       "      <td>D</td>\n",
       "      <td>13</td>\n",
       "      <td>4</td>\n",
       "      <td>OUTRIGHT</td>\n",
       "    </tr>\n",
       "    <tr>\n",
       "      <th>8</th>\n",
       "      <td>1</td>\n",
       "      <td>135087M76</td>\n",
       "      <td>WI</td>\n",
       "      <td>NaN</td>\n",
       "      <td>1</td>\n",
       "      <td>BOND</td>\n",
       "      <td>11/1/2023</td>\n",
       "      <td>8/9/2021 0:00</td>\n",
       "      <td>SELL</td>\n",
       "      <td>15000000</td>\n",
       "      <td>...</td>\n",
       "      <td>1</td>\n",
       "      <td>1</td>\n",
       "      <td>337</td>\n",
       "      <td>117795.0</td>\n",
       "      <td>7019</td>\n",
       "      <td>277</td>\n",
       "      <td>D</td>\n",
       "      <td>13</td>\n",
       "      <td>4</td>\n",
       "      <td>OUTRIGHT</td>\n",
       "    </tr>\n",
       "    <tr>\n",
       "      <th>9</th>\n",
       "      <td>1</td>\n",
       "      <td>135087L93</td>\n",
       "      <td>WI</td>\n",
       "      <td>NaN</td>\n",
       "      <td>1</td>\n",
       "      <td>BOND</td>\n",
       "      <td>9/1/2026</td>\n",
       "      <td>4/16/2021 0:00</td>\n",
       "      <td>SELL</td>\n",
       "      <td>600000</td>\n",
       "      <td>...</td>\n",
       "      <td>1</td>\n",
       "      <td>1</td>\n",
       "      <td>335</td>\n",
       "      <td>117793.0</td>\n",
       "      <td>11532</td>\n",
       "      <td>177</td>\n",
       "      <td>D</td>\n",
       "      <td>13</td>\n",
       "      <td>4</td>\n",
       "      <td>OUTRIGHT</td>\n",
       "    </tr>\n",
       "  </tbody>\n",
       "</table>\n",
       "<p>10 rows × 27 columns</p>\n",
       "</div>"
      ],
      "text/plain": [
       "   NoRelatedSym     Symbol SymbolSfx  SecurityID  SecurityIDSource  \\\n",
       "0             1  135087L93        WI         NaN                 1   \n",
       "1             1  135087L93        WI         NaN                 1   \n",
       "2             1  135087L93        WI         NaN                 1   \n",
       "3             1  135087L93        WI         NaN                 1   \n",
       "4             1  135087L93        WI         NaN                 1   \n",
       "5             1  135087M76        WI         NaN                 1   \n",
       "6             1  135087M76        WI         NaN                 1   \n",
       "7             1  135087M76        WI         NaN                 1   \n",
       "8             1  135087M76        WI         NaN                 1   \n",
       "9             1  135087L93        WI         NaN                 1   \n",
       "\n",
       "  SecurityType MaturityDate       IssueDate  Side  OrderQty  ... NoPartIDs  \\\n",
       "0         BOND     9/1/2026  4/16/2021 0:00   BUY   2400000  ...         1   \n",
       "1         BOND     9/1/2026  4/16/2021 0:00   BUY   2400000  ...         1   \n",
       "2         BOND     9/1/2026  4/16/2021 0:00   BUY   2400000  ...         1   \n",
       "3         BOND     9/1/2026  4/16/2021 0:00   BUY   2400000  ...         1   \n",
       "4         BOND     9/1/2026  4/16/2021 0:00   BUY   2400000  ...         1   \n",
       "5         BOND    11/1/2023   8/9/2021 0:00  SELL  15000000  ...         1   \n",
       "6         BOND    11/1/2023   8/9/2021 0:00  SELL  15000000  ...         1   \n",
       "7         BOND    11/1/2023   8/9/2021 0:00  SELL  15000000  ...         1   \n",
       "8         BOND    11/1/2023   8/9/2021 0:00  SELL  15000000  ...         1   \n",
       "9         BOND     9/1/2026  4/16/2021 0:00  SELL    600000  ...         1   \n",
       "\n",
       "  PartyID  DealerID DealerTraderID  CustomerTraderID  CustomerID  \\\n",
       "0       1       334        10792.0              6549         129   \n",
       "1       1       335       117793.0              6549         129   \n",
       "2       1       325       119290.0              6549         129   \n",
       "3       1       327       113852.0              6549         129   \n",
       "4       1       337       117795.0              6549         129   \n",
       "5       1       325       119752.0              7019         277   \n",
       "6       1       336       117794.0              7019         277   \n",
       "7       1       323       117786.0              7019         277   \n",
       "8       1       337       117795.0              7019         277   \n",
       "9       1       335       117793.0             11532         177   \n",
       "\n",
       "   PartyIDSource  PartyRole  DealerCount  OrdSubType  \n",
       "0              D         13            5    OUTRIGHT  \n",
       "1              D         13            5    OUTRIGHT  \n",
       "2              D         13            5    OUTRIGHT  \n",
       "3              D         13            5    OUTRIGHT  \n",
       "4              D         13            5    OUTRIGHT  \n",
       "5              D         13            4    OUTRIGHT  \n",
       "6              D         13            4    OUTRIGHT  \n",
       "7              D         13            4    OUTRIGHT  \n",
       "8              D         13            4    OUTRIGHT  \n",
       "9              D         13            4    OUTRIGHT  \n",
       "\n",
       "[10 rows x 27 columns]"
      ]
     },
     "execution_count": 38,
     "metadata": {},
     "output_type": "execute_result"
    }
   ],
   "source": [
    "import pandas as pd\n",
    "import numpy as np\n",
    "\n",
    "url_dataset = \"https://raw.githubusercontent.com/evassev/CS6501_SEM2_2022/main/Etivities/data/trade_combined.csv\"\n",
    "df = pd.read_csv(url_dataset)\n",
    "\n",
    "df.head(10)"
   ]
  },
  {
   "cell_type": "markdown",
   "id": "e1329812",
   "metadata": {},
   "source": [
    " ### Step 1: Determine the ML Model: Supervised-Classification, Supervised-Regression, or Unsupervised ML Model.\n",
    " \n",
    "The problem statement indicates that a <b>Supervised-Regression</b> model is required since the target variable is continuous.\n",
    " \n",
    "\n",
    "\n",
    "####  ML model which can predict the Bond Price.\n",
    "\n",
    "Target Variable: Price"
   ]
  },
  {
   "cell_type": "markdown",
   "id": "bd8b9378",
   "metadata": {},
   "source": [
    "### Step 2: Data Preprocessing."
   ]
  },
  {
   "cell_type": "markdown",
   "id": "ef197e89",
   "metadata": {},
   "source": [
    "### Step 2.1: Specifics of the dataset.\n",
    "\n",
    "* shape\n",
    "* columns (features)\n",
    "* data types\n",
    "* statistics for the 'Price' feature\n",
    "* plot the 'Price' feature"
   ]
  },
  {
   "cell_type": "code",
   "execution_count": 39,
   "id": "8935339d",
   "metadata": {},
   "outputs": [
    {
     "data": {
      "text/plain": [
       "(20000, 27)"
      ]
     },
     "execution_count": 39,
     "metadata": {},
     "output_type": "execute_result"
    }
   ],
   "source": [
    "# shape\n",
    "\n",
    "df.shape"
   ]
  },
  {
   "cell_type": "code",
   "execution_count": 40,
   "id": "9332075d",
   "metadata": {},
   "outputs": [
    {
     "data": {
      "text/plain": [
       "Index(['NoRelatedSym', 'Symbol', 'SymbolSfx', 'SecurityID', 'SecurityIDSource',\n",
       "       'SecurityType', 'MaturityDate', 'IssueDate', 'Side', 'OrderQty',\n",
       "       'SettlDate', 'Currency', 'OrdType', 'TransactTime', 'Price',\n",
       "       'PriceType', 'Yield', 'NoPartIDs', 'PartyID', 'DealerID',\n",
       "       'DealerTraderID', 'CustomerTraderID', 'CustomerID', 'PartyIDSource',\n",
       "       'PartyRole', 'DealerCount', 'OrdSubType'],\n",
       "      dtype='object')"
      ]
     },
     "execution_count": 40,
     "metadata": {},
     "output_type": "execute_result"
    }
   ],
   "source": [
    "# columns (features)\n",
    "\n",
    "# For finding the list of columns in the data\n",
    "df.columns"
   ]
  },
  {
   "cell_type": "code",
   "execution_count": 41,
   "id": "2c7f0358",
   "metadata": {},
   "outputs": [
    {
     "data": {
      "text/plain": [
       "NoRelatedSym          int64\n",
       "Symbol               object\n",
       "SymbolSfx            object\n",
       "SecurityID          float64\n",
       "SecurityIDSource      int64\n",
       "SecurityType         object\n",
       "MaturityDate         object\n",
       "IssueDate            object\n",
       "Side                 object\n",
       "OrderQty              int64\n",
       "SettlDate            object\n",
       "Currency             object\n",
       "OrdType               int64\n",
       "TransactTime         object\n",
       "Price               float64\n",
       "PriceType             int64\n",
       "Yield               float64\n",
       "NoPartIDs             int64\n",
       "PartyID               int64\n",
       "DealerID              int64\n",
       "DealerTraderID      float64\n",
       "CustomerTraderID      int64\n",
       "CustomerID            int64\n",
       "PartyIDSource        object\n",
       "PartyRole             int64\n",
       "DealerCount           int64\n",
       "OrdSubType           object\n",
       "dtype: object"
      ]
     },
     "execution_count": 41,
     "metadata": {},
     "output_type": "execute_result"
    }
   ],
   "source": [
    "# data types\n",
    "\n",
    "df.dtypes"
   ]
  },
  {
   "cell_type": "code",
   "execution_count": 42,
   "id": "1e2e7ce8",
   "metadata": {},
   "outputs": [
    {
     "data": {
      "text/plain": [
       "count    18692.000000\n",
       "mean       107.535666\n",
       "std         14.445474\n",
       "min          0.000000\n",
       "25%         99.749750\n",
       "50%        103.324500\n",
       "75%        110.360500\n",
       "max        174.278000\n",
       "Name: Price, dtype: float64"
      ]
     },
     "execution_count": 42,
     "metadata": {},
     "output_type": "execute_result"
    }
   ],
   "source": [
    "# statistics for the 'Price' feature\n",
    "df['Price'].describe()"
   ]
  },
  {
   "cell_type": "code",
   "execution_count": 43,
   "id": "d4516232",
   "metadata": {},
   "outputs": [
    {
     "data": {
      "text/plain": [
       "<AxesSubplot:>"
      ]
     },
     "execution_count": 43,
     "metadata": {},
     "output_type": "execute_result"
    },
    {
     "data": {
      "image/png": "[encoded data removed]",
      "text/plain": [
       "<Figure size 600x800 with 1 Axes>"
      ]
     },
     "metadata": {},
     "output_type": "display_data"
    }
   ],
   "source": [
    "# plot the 'Price' feature\n",
    "df.boxplot(column='Price',grid=True,fontsize=12,figsize=(6,8))"
   ]
  },
  {
   "cell_type": "markdown",
   "id": "044a4db1",
   "metadata": {},
   "source": [
    "### Step 2.2: Data Cleaning: Remove features with unique values for each row in the dataset.\n",
    "\n",
    "* Show the features with unique values for each row in the dataset.\n",
    "* Remove the features with unique values for each row in the dataset."
   ]
  },
  {
   "cell_type": "code",
   "execution_count": 44,
   "id": "ffede79b",
   "metadata": {},
   "outputs": [
    {
     "data": {
      "text/plain": [
       "NoRelatedSym            1\n",
       "Symbol                411\n",
       "SymbolSfx               1\n",
       "SecurityID           1912\n",
       "SecurityIDSource        1\n",
       "SecurityType            4\n",
       "MaturityDate          311\n",
       "IssueDate             402\n",
       "Side                    2\n",
       "OrderQty             1249\n",
       "SettlDate              99\n",
       "Currency                1\n",
       "OrdType                 1\n",
       "TransactTime         4130\n",
       "Price               12112\n",
       "PriceType               1\n",
       "Yield                3287\n",
       "NoPartIDs               1\n",
       "PartyID                 1\n",
       "DealerID               14\n",
       "DealerTraderID        160\n",
       "CustomerTraderID      389\n",
       "CustomerID            170\n",
       "PartyIDSource           1\n",
       "PartyRole               1\n",
       "DealerCount             5\n",
       "OrdSubType              1\n",
       "dtype: int64"
      ]
     },
     "execution_count": 44,
     "metadata": {},
     "output_type": "execute_result"
    }
   ],
   "source": [
    "# To the unique values in the dataset\n",
    "# In order to determine which columns are categorical and which are continuous\n",
    "df.nunique()"
   ]
  },
  {
   "cell_type": "code",
   "execution_count": 45,
   "id": "837d9031",
   "metadata": {},
   "outputs": [],
   "source": [
    "# Removing the features with unique values for each row in the dataset.\n",
    "for column in df.columns:\n",
    "    uniquevalues=df[column].unique()\n",
    "    if len(uniquevalues)==df.shape[0]:\n",
    "        df.drop(column,axis=1,inplace=True)\n",
    "        print(\"Column'\"+column+\"'has been removed\")"
   ]
  },
  {
   "cell_type": "markdown",
   "id": "06af1c6d",
   "metadata": {},
   "source": [
    "### Step 2.3: Data Cleaning: Remove features with one unique value for the entire dataset.\n",
    "\n",
    "* Show the features with one unique value for the entire dataset.\n",
    "* Remove the features with one unique value for the entire dataset."
   ]
  },
  {
   "cell_type": "code",
   "execution_count": 46,
   "id": "e14f6e81",
   "metadata": {},
   "outputs": [
    {
     "name": "stdout",
     "output_type": "stream",
     "text": [
      "Column'NoRelatedSym'has been removed\n",
      "Column'SymbolSfx'has been removed\n",
      "Column'SecurityIDSource'has been removed\n",
      "Column'Currency'has been removed\n",
      "Column'OrdType'has been removed\n",
      "Column'PriceType'has been removed\n",
      "Column'NoPartIDs'has been removed\n",
      "Column'PartyID'has been removed\n",
      "Column'PartyIDSource'has been removed\n",
      "Column'PartyRole'has been removed\n",
      "Column'OrdSubType'has been removed\n"
     ]
    }
   ],
   "source": [
    "for column1 in df.columns:\n",
    "    uniquevalues=df[column1].unique()\n",
    "    if len(uniquevalues)==1:\n",
    "        df.drop(column1,axis=1, inplace=True)\n",
    "        print(\"Column'\"+column1+\"'has been removed\")"
   ]
  },
  {
   "cell_type": "markdown",
   "id": "3e1ef626",
   "metadata": {},
   "source": [
    "### Step 2.4: Data Cleaning: Remove records with null (NAN) values.\n",
    "\n",
    "* Show the number of null values per feature.\n",
    "* For any feature, remove the rows containg a null value"
   ]
  },
  {
   "cell_type": "code",
   "execution_count": 47,
   "id": "7017617e",
   "metadata": {},
   "outputs": [
    {
     "name": "stdout",
     "output_type": "stream",
     "text": [
      "0\n",
      "13959\n",
      "0\n",
      "0\n",
      "0\n",
      "0\n",
      "0\n",
      "0\n",
      "0\n",
      "1308\n",
      "1297\n",
      "0\n",
      "1055\n",
      "0\n",
      "0\n",
      "0\n"
     ]
    }
   ],
   "source": [
    "for column in df.columns:\n",
    "    print(df[column].isnull().sum())\n",
    "for column in df.columns:\n",
    "    df=df[df[column].notna()]"
   ]
  },
  {
   "cell_type": "code",
   "execution_count": 48,
   "id": "70da51c7",
   "metadata": {},
   "outputs": [
    {
     "data": {
      "text/plain": [
       "Symbol              0\n",
       "SecurityID          0\n",
       "SecurityType        0\n",
       "MaturityDate        0\n",
       "IssueDate           0\n",
       "Side                0\n",
       "OrderQty            0\n",
       "SettlDate           0\n",
       "TransactTime        0\n",
       "Price               0\n",
       "Yield               0\n",
       "DealerID            0\n",
       "DealerTraderID      0\n",
       "CustomerTraderID    0\n",
       "CustomerID          0\n",
       "DealerCount         0\n",
       "dtype: int64"
      ]
     },
     "execution_count": 48,
     "metadata": {},
     "output_type": "execute_result"
    }
   ],
   "source": [
    "# Finding how many missing values are there for each column\n",
    "df.isnull().sum()"
   ]
  },
  {
   "cell_type": "markdown",
   "id": "7b2a5680",
   "metadata": {},
   "source": [
    "### Step 2.5: Data Transformation: Convert all non-numeric features to numeric.\n",
    "\n",
    "* Show all non-numeric features.\n",
    "* Convert the non-numeric features to numeric."
   ]
  },
  {
   "cell_type": "code",
   "execution_count": 70,
   "id": "8e349ddd",
   "metadata": {},
   "outputs": [
    {
     "name": "stdout",
     "output_type": "stream",
     "text": [
      "[]\n",
      "[1 2 3]\n",
      "[  1   2   3   4   5   6   7   8   9  10  11  12  13  14  15  16  17  18\n",
      "  19  20  21  22  23  24  25  26  27  28  29  30  31  32  33  34  35  36\n",
      "  37  38  39  40  41  42  43  44  45  46  47  48  49  50  51  52  53  54\n",
      "  55  56  57  58  59  60  61  62  63  64  65  66  67  68  69  70  71  72\n",
      "  73  74  75  76  77  78  79  80  81  82  83  84  85  86  87  88  89  90\n",
      "  91  92  93  94  95  96  97  98  99 100 101 102 103 104 105 106 107 108\n",
      " 109 110 111 112 113 114 115 116 117 118 119 120 121 122 123 124 125 126\n",
      " 127 128 129 130 131 132 133 134 135 136 137 138 139 140 141 142 143 144\n",
      " 145 146 147 148 149 150 151 152 153 154 155 156 157 158 159 160 161 162\n",
      " 163 164 165 166 167 168 169 170 171 172 173 174 175 176 177 178 179 180\n",
      " 181 182 183 184 185 186 187 188 189 190 191 192 193 194 195 196 197 198\n",
      " 199 200 201 202 203 204 205 206 207 208 209 210 211 212 213 214 215 216\n",
      " 217 218 219 220 221 222 223 224 225 226 227 228 229 230 231 232 233 234\n",
      " 235 236 237 238 239 240 241 242 243 244 245 246 247 248 249 250 251 252\n",
      " 253 254 255 256 257 258 259 260 261 262 263 264 265 266 267 268 269 270\n",
      " 271 272 273 274 275 276 277 278 279 280 281 282 283 284 285 286 287 288\n",
      " 289 290 291 292 293 294 295 296 297 298 299 300 301 302 303 304]\n",
      "6204       1\n",
      "6205       1\n",
      "6206       2\n",
      "6207       1\n",
      "6208       1\n",
      "        ... \n",
      "19995    150\n",
      "19996    150\n",
      "19997    304\n",
      "19998    150\n",
      "19999    304\n",
      "Name: Symbol, Length: 5685, dtype: int64\n"
     ]
    }
   ],
   "source": [
    "no=df.select_dtypes(exclude=np.number).columns.tolist()\n",
    "print(no)\n",
    "df['MaturityDate']=pd.to_datetime(df['MaturityDate']).dt.strftime(\"%Y%m%d\").astype(int)\n",
    "df['IssueDate']=pd.to_datetime(df['IssueDate']).dt.strftime(\"%Y%m%d\").astype(int)\n",
    "df['SettlDate']=pd.to_datetime(df['SettlDate']).dt.strftime(\"%Y%m%d\").astype(int)\n",
    "df['TransactTime']=pd.to_datetime(df['TransactTime']).dt.strftime(\"%Y%m%d\").astype(int)\n",
    "class_mapper={'BUY':1,'SELL':2}\n",
    "df['Side']=df['Side'].replace(class_mapper)\n",
    "security_type=df['SecurityType'].unique()\n",
    "print(security_type)\n",
    "class_mapper = {}\n",
    "num=0\n",
    "for element in security_type:\n",
    "    num +=1\n",
    "    class_mapper[element]=num\n",
    "df['SecurityType']=df['SecurityType'].replace(class_mapper)\n",
    "\n",
    "\n",
    "symbol_type=df['Symbol'].unique()\n",
    "print(symbol_type)\n",
    "class_map={}\n",
    "num1=0\n",
    "for el in symbol_type:\n",
    "    num1 +=1\n",
    "    class_map[el]=num1\n",
    "df['Symbol']=df['Symbol'].replace(class_map)\n",
    "print(df['Symbol'])"
   ]
  },
  {
   "cell_type": "markdown",
   "id": "08bf0b62",
   "metadata": {},
   "source": [
    "### Step 3: Model Training and Testing."
   ]
  },
  {
   "cell_type": "markdown",
   "id": "b4f8bd5e",
   "metadata": {},
   "source": [
    "### Step 3.1: Select and Import a ML Algorithm."
   ]
  },
  {
   "cell_type": "code",
   "execution_count": 71,
   "id": "f59647cb",
   "metadata": {},
   "outputs": [],
   "source": [
    "#for Supervised Regression ML use 'from sklearn.ensemble import RandomForestRegressor'\n"
   ]
  },
  {
   "cell_type": "code",
   "execution_count": 72,
   "id": "ab6bbf0e",
   "metadata": {
    "scrolled": false
   },
   "outputs": [],
   "source": [
    "from sklearn.ensemble import RandomForestRegressor\n",
    "from sklearn.model_selection import train_test_split\n",
    "X=df.loc[:,df.columns!='Price']\n",
    "Y = df.iloc[:,9]"
   ]
  },
  {
   "cell_type": "markdown",
   "id": "ad9831d7",
   "metadata": {},
   "source": [
    "### Step 3.2: Train the ML Model. (10%)\n",
    "\n",
    "* from the preprocessed dataset, extract 𝑋 - a dataset of all the features but 'Price'\n",
    "* from the preprocessed dataset, extract 𝑌 - vector that contains all the values of 'Price'\n",
    "* slice the dataset: 80% for training and 20% for testing\n",
    "* create an instance of the selected ML algorithm and train"
   ]
  },
  {
   "cell_type": "code",
   "execution_count": 73,
   "id": "a8661b73",
   "metadata": {},
   "outputs": [
    {
     "name": "stdout",
     "output_type": "stream",
     "text": [
      "       Symbol  SecurityID  SecurityType  MaturityDate  IssueDate  Side  \\\n",
      "10127      22    597209.0             3      19700101   19700101     1   \n",
      "19160     272   2314777.0             1      19700101   19700101     1   \n",
      "15917     184    273653.0             1      19700101   19700101     2   \n",
      "14979       8    816003.0             1      19700101   19700101     2   \n",
      "19814      65   2314913.0             1      19700101   19700101     2   \n",
      "...       ...         ...           ...           ...        ...   ...   \n",
      "19195     163   2314787.0             2      19700101   19700101     2   \n",
      "15354      58   1076920.0             1      19700101   19700101     1   \n",
      "9998       60    597156.0             1      19700101   19700101     2   \n",
      "14653     103   1134363.0             1      19700101   19700101     1   \n",
      "14794      31    815882.0             1      19700101   19700101     1   \n",
      "\n",
      "       OrderQty  SettlDate  TransactTime  Yield  DealerID  DealerTraderID  \\\n",
      "10127      6000   19700101      19700101  1.681       330         12940.0   \n",
      "19160    100000   19700101      19700101  2.497       337          5168.0   \n",
      "15917   4000000   19700101      19700101  1.767       325          7632.0   \n",
      "14979   4041000   19700101      19700101  2.331       334        113683.0   \n",
      "19814     49000   19700101      19700101  2.511       323        118599.0   \n",
      "...         ...        ...           ...    ...       ...             ...   \n",
      "19195     50000   19700101      19700101  3.449       325        119335.0   \n",
      "15354   1000000   19700101      19700101  1.704       337         11234.0   \n",
      "9998   10000000   19700101      19700101  0.444       323        118599.0   \n",
      "14653   5000000   19700101      19700101  0.657       337          5168.0   \n",
      "14794   4437000   19700101      19700101  1.187       327        114381.0   \n",
      "\n",
      "       CustomerTraderID  CustomerID  DealerCount  \n",
      "10127             13346          70            3  \n",
      "19160             12951         124            5  \n",
      "15917             13370         340            3  \n",
      "14979              6419          82            4  \n",
      "19814            113770          19            5  \n",
      "...                 ...         ...          ...  \n",
      "19195             12951         124            5  \n",
      "15354              7073         300            4  \n",
      "9998               7014         277            4  \n",
      "14653              6753         204            4  \n",
      "14794              6993         269            2  \n",
      "\n",
      "[4548 rows x 15 columns]\n",
      "10127    110.537\n",
      "19160     83.705\n",
      "15917     97.650\n",
      "14979    125.160\n",
      "19814    131.422\n",
      "          ...   \n",
      "19195    100.819\n",
      "15354    157.231\n",
      "9998     102.105\n",
      "14653     99.700\n",
      "14794    109.854\n",
      "Name: Price, Length: 4548, dtype: float64\n"
     ]
    }
   ],
   "source": [
    "from sklearn import metrics\n",
    "X_train, X_test, Y_train, Y_test = train_test_split(X,Y, test_size=0.2, random_state=0)\n",
    "print(X_train)\n",
    "print(Y_train)"
   ]
  },
  {
   "cell_type": "markdown",
   "id": "10cf2fe8",
   "metadata": {},
   "source": [
    "### Step 3.3: Test the ML Model.\n",
    "\n",
    "* use the testing part of the dataset to predic the Bond Prices\n",
    "* compute and show the prediction score"
   ]
  },
  {
   "cell_type": "code",
   "execution_count": 74,
   "id": "a8fabcc1",
   "metadata": {},
   "outputs": [
    {
     "name": "stdout",
     "output_type": "stream",
     "text": [
      "0.9617193290041952\n"
     ]
    }
   ],
   "source": [
    "rf_regressor = RandomForestRegressor (n_estimators=100)\n",
    "rf_regressor.fit(X_train, Y_train)\n",
    "Y_pred = rf_regressor.predict(X_test)\n",
    "print(metrics.r2_score(Y_test,Y_pred))"
   ]
  },
  {
   "cell_type": "code",
   "execution_count": null,
   "id": "a391e73e",
   "metadata": {},
   "outputs": [],
   "source": []
  },
  {
   "cell_type": "code",
   "execution_count": null,
   "id": "66cb8be8",
   "metadata": {},
   "outputs": [],
   "source": []
  }
 ],
 "metadata": {
  "kernelspec": {
   "display_name": "Python 3 (ipykernel)",
   "language": "python",
   "name": "python3"
  },
  "language_info": {
   "codemirror_mode": {
    "name": "ipython",
    "version": 3
   },
   "file_extension": ".py",
   "mimetype": "text/x-python",
   "name": "python",
   "nbconvert_exporter": "python",
   "pygments_lexer": "ipython3",
   "version": "3.7.6"
  }
 },
 "nbformat": 4,
 "nbformat_minor": 5
}

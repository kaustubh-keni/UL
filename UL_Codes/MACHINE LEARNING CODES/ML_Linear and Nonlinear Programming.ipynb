{
 "cells": [
  {
   "cell_type": "markdown",
   "id": "b8e5ed62",
   "metadata": {},
   "source": [
    "<div>\n",
    "<img src=\"https://drive.google.com/uc?export=view&id=1vK33e_EqaHgBHcbRV_m38hx6IkG0blK_\" width=\"350\"/>\n",
    "</div> \n",
    "\n",
    "## CS6501  Machine Learning and Applications\n",
    "## SEM1 2022/3\n",
    "\n",
    "### CS6501 Etivity 2 - Linear and Nonlinear Programming\n",
    "\n",
    "### Instructor: Emil Vassev\n",
    "October 17th, 2022\n",
    "<br><br>\n",
    "Copyright (C) 2022 - All rights reserved, do not copy or distribute without permission of the author.\n",
    "***"
   ]
  },
  {
   "cell_type": "markdown",
   "id": "6c2603d7",
   "metadata": {},
   "source": [
    "## Submission Info\n",
    "### Student Name: <span style=\"color:red\">KAUSTUBH</span>\n",
    "### Student Surname: <span style=\"color:red\">KENI</span>\n",
    "### Student ID: <span style=\"color:red\">22175342</span>\n",
    "### Date of Final Submission: <span style=\"color:red\">27/11/2022</span>\n",
    "***"
   ]
  },
  {
   "cell_type": "markdown",
   "id": "a2b8d751",
   "metadata": {},
   "source": [
    "## Task\n",
    "In this e-tivity, you are asked to determine the components of a linear/non-linear programming problem, and then to implement in Python a program that will solve that problem by using the <b>scipy.optimize</b> library. Please, consult the lectures of Week #6 for more details on how we determine the components of a linear/non-linear programming problem and also, how we implement linear/non-linear programs in Python. The program you are going to implement is based on a real-life scenario, which is invented by the author of this assignment and thus, the numbers provided are fictive.\n",
    "## The real-life scenario\n",
    "Mazda Motor Corporation produces three models of its CX series: Mazda CX-3, Mazda CX-5, and Mazda CX-9 (for simplicity, in this scenario we ignore the new models like CX-30, CX-50, etc.). Market projections indicate an expected monthly demand of at least: 3500 cars of the CX-3 model, 5000 cars of the CX-5 model, and 2100 cars of the CX-9 model.  Due to insufficient production capacity, no more than 4000 cars can be made of model CX-3, no more than 7000 cars can be made of model CX-5, and no more than 2500 cars can be made of model CX-9. Due to existing contracts with car dealers worldwide, a total of at least 12000 cars must be produced each month. Here is the financial result calculated as production costs – selling costs per model: \n",
    "<li>CX-3: EUR 3400 profit</li> \n",
    "<li>CX-5: EUR 2500 loss</li>\n",
    "<li>CX-9: EUR 7200 profit</li>\n",
    "<br>\n",
    "How many cars of each Mazda CX model should be produced monthly, so to maximize the total net profit?  \n",
    "<br><br>\n",
    "<span style=\"color:blue\">The author of this assignment drives Mazda CX-5, 2021, and he loves it! He is convinced this car is undervalued. :)</span>"
   ]
  },
  {
   "cell_type": "markdown",
   "id": "903e119a",
   "metadata": {},
   "source": [
    "## Here are the steps you need to follow:"
   ]
  },
  {
   "cell_type": "markdown",
   "id": "a2788722",
   "metadata": {},
   "source": [
    "## Step 1: Determine the programming problem: linear or non-linear.  (5%)"
   ]
  },
  {
   "cell_type": "markdown",
   "id": "b7ad3798",
   "metadata": {},
   "source": [
    "<span style=\"color:red\">As the problem statements fit the definition of a Linear Programming Problem (LPP), the problem is an LPP, the decision variable is continuous, the functional form is linear, and the constraints are linear</span>"
   ]
  },
  {
   "cell_type": "markdown",
   "id": "6b20db4c",
   "metadata": {},
   "source": [
    "## Step 2: Define the components of the LPP/NLPP tuple  <D, f, Fc , C, Cn, R, Tc>. (45%)"
   ]
  },
  {
   "cell_type": "markdown",
   "id": "ab29788f",
   "metadata": {},
   "source": [
    "### Step 2.1: D - Decision Variables (5%)"
   ]
  },
  {
   "cell_type": "markdown",
   "id": "dc9249ff",
   "metadata": {},
   "source": [
    "<span style=\"color:red\">D = {x1,x2,x3}</span>"
   ]
  },
  {
   "cell_type": "markdown",
   "id": "ee5b9a4b",
   "metadata": {},
   "source": [
    "### Step 2.2: f - Objective Function (20%)"
   ]
  },
  {
   "cell_type": "markdown",
   "id": "273fa454",
   "metadata": {},
   "source": [
    "<span style=\"color:red\">Max[F] = 3400x1 - 2500x2 + 7200x3</span>"
   ]
  },
  {
   "cell_type": "markdown",
   "id": "c0ecd215",
   "metadata": {},
   "source": [
    "### Step 2.3: Fc - Objective Function Coefficients (3%)"
   ]
  },
  {
   "cell_type": "markdown",
   "id": "733c086d",
   "metadata": {},
   "source": [
    "<span style=\"color:red\">Fc = {3400:x1, -2500:x2, 7200:x3}</span>"
   ]
  },
  {
   "cell_type": "markdown",
   "id": "c4a839dc",
   "metadata": {},
   "source": [
    "### Step 2.4: C - Constraints (10%)"
   ]
  },
  {
   "cell_type": "markdown",
   "id": "19930204",
   "metadata": {},
   "source": [
    "<span style=\"color:red\">C = {(1*x1 + 1*x2 + 1*x3) >= 12000}</span>"
   ]
  },
  {
   "cell_type": "markdown",
   "id": "69acd9ae",
   "metadata": {},
   "source": [
    "### Step 2.5: Cn – Non-negative Constraints (3%) "
   ]
  },
  {
   "cell_type": "markdown",
   "id": "532900c7",
   "metadata": {},
   "source": [
    "<span style=\"color:red\">Cn = {x1 > = 3500, x1 <= 4000, x2 >= 5000, x2 <= 7000, x3 >= 2100, x3 <= 2500}</span>"
   ]
  },
  {
   "cell_type": "markdown",
   "id": "d484e3ed",
   "metadata": {},
   "source": [
    "### Step 2.6: R – Resource Availability (2%)"
   ]
  },
  {
   "cell_type": "markdown",
   "id": "8a422b58",
   "metadata": {},
   "source": [
    "<span style=\"color:red\">R = {-12000}</span>"
   ]
  },
  {
   "cell_type": "markdown",
   "id": "74d4adbf",
   "metadata": {},
   "source": [
    "### Step 2.7: Tc – Technological Coefficients (2%)"
   ]
  },
  {
   "cell_type": "markdown",
   "id": "ef778b33",
   "metadata": {},
   "source": [
    "<span style=\"color:red\">Tc = {-1, -1, -1}</span>"
   ]
  },
  {
   "cell_type": "markdown",
   "id": "e9de73a9",
   "metadata": {},
   "source": [
    "## Step 3: Implement the LPP/NLPP in Python by using scipy.optimize as shown in the lectures. (50%) "
   ]
  },
  {
   "cell_type": "markdown",
   "id": "d4e74f18",
   "metadata": {},
   "source": [
    "Use the <b>scipy.optimize</b> library to implement a program that will solve the linear/non-linear programming problem specified in Step 2. "
   ]
  },
  {
   "cell_type": "markdown",
   "id": "bd3ae2ef",
   "metadata": {},
   "source": [
    "### Step 3.1: Implement the programming model. (40%)"
   ]
  },
  {
   "cell_type": "code",
   "execution_count": 8,
   "id": "c350d2fb",
   "metadata": {},
   "outputs": [],
   "source": [
    "from scipy.optimize import linprog"
   ]
  },
  {
   "cell_type": "markdown",
   "id": "9fc20d41",
   "metadata": {},
   "source": [
    "### Step 3.2: Execute the programming model. (8%)"
   ]
  },
  {
   "cell_type": "code",
   "execution_count": 9,
   "id": "b4241adf",
   "metadata": {},
   "outputs": [],
   "source": [
    "# Coeffiecients for Mazda CX-3, CX-5, CX-9\n",
    "obj = [-3400, 2500, -7200]\n",
    "\n",
    "# Constarint Left Side\n",
    "lhs_ineq = [[-1, -1, -1]] \n",
    "\n",
    "# Constarint Right Side\n",
    "rhs_ineq = [-12000]\n",
    "\n",
    "# Mazda CX-3, CX-5, CX-9 production bounds\n",
    "x1_bounds = (3500, 4000)\n",
    "x2_bounds = (5000, 7000) \n",
    "x3_bounds = (2100, 2500)\n",
    "bnd = [x1_bounds, x2_bounds, x3_bounds]\n",
    "\n",
    "\n",
    "# Optimizing the problem using linprog from scipy.optimize\n",
    "opt_highs_ds = linprog(c = obj, A_ub = lhs_ineq, b_ub = rhs_ineq, bounds = bnd, method = 'highs-ds')\n",
    "opt_highs_ipm = linprog(c = obj, A_ub = lhs_ineq, b_ub = rhs_ineq, bounds = bnd, method = 'highs-ipm')\n",
    "opt_highs = linprog(c = obj, A_ub = lhs_ineq, b_ub = rhs_ineq, bounds = bnd, method = 'highs')\n",
    "opt_interior_point = linprog(c = obj, A_ub = lhs_ineq, b_ub = rhs_ineq, bounds = bnd, method = 'interior-point')\n",
    "opt_revised_simplex = linprog(c = obj, A_ub = lhs_ineq, b_ub = rhs_ineq, bounds = bnd, method = 'revised simplex')\n",
    "opt_simplex = linprog(c = obj, A_ub = lhs_ineq, b_ub = rhs_ineq, bounds = bnd, method = 'simplex')"
   ]
  },
  {
   "cell_type": "markdown",
   "id": "b6b85948",
   "metadata": {},
   "source": [
    "### Step 3.3: Show the result of your program's execution. (2%)"
   ]
  },
  {
   "cell_type": "code",
   "execution_count": 10,
   "id": "9c60a865",
   "metadata": {},
   "outputs": [
    {
     "data": {
      "text/plain": [
       "           con: array([], dtype=float64)\n",
       " crossover_nit: 0\n",
       "         eqlin:  marginals: array([], dtype=float64)\n",
       "  residual: array([], dtype=float64)\n",
       "           fun: -17850000.0\n",
       "       ineqlin:  marginals: array([-2500.])\n",
       "  residual: array([0.])\n",
       "         lower:  marginals: <MemoryView of 'ndarray' at 0x2999e7a53a8>\n",
       "  residual: array([500., 500., 400.])\n",
       "       message: 'Optimization terminated successfully.'\n",
       "           nit: 0\n",
       "         slack: array([0.])\n",
       "        status: 0\n",
       "       success: True\n",
       "         upper:  marginals: <MemoryView of 'ndarray' at 0x2999e7a51f8>\n",
       "  residual: array([   0., 1500.,    0.])\n",
       "             x: array([4000., 5500., 2500.])"
      ]
     },
     "execution_count": 10,
     "metadata": {},
     "output_type": "execute_result"
    }
   ],
   "source": [
    "# Output opt_highs_ds\n",
    "opt_highs_ds"
   ]
  },
  {
   "cell_type": "code",
   "execution_count": 11,
   "id": "06d1fd98",
   "metadata": {},
   "outputs": [
    {
     "data": {
      "text/plain": [
       "           con: array([], dtype=float64)\n",
       " crossover_nit: 0\n",
       "         eqlin:  marginals: array([], dtype=float64)\n",
       "  residual: array([], dtype=float64)\n",
       "           fun: -17850000.0\n",
       "       ineqlin:  marginals: array([-2500.])\n",
       "  residual: array([0.])\n",
       "         lower:  marginals: <MemoryView of 'ndarray' at 0x2999e7a5708>\n",
       "  residual: array([500., 500., 400.])\n",
       "       message: 'Optimization terminated successfully.'\n",
       "           nit: 0\n",
       "         slack: array([0.])\n",
       "        status: 0\n",
       "       success: True\n",
       "         upper:  marginals: <MemoryView of 'ndarray' at 0x2999e7a5558>\n",
       "  residual: array([   0., 1500.,    0.])\n",
       "             x: array([4000., 5500., 2500.])"
      ]
     },
     "execution_count": 11,
     "metadata": {},
     "output_type": "execute_result"
    }
   ],
   "source": [
    "# Output opt_highs_ipm\n",
    "opt_highs_ipm"
   ]
  },
  {
   "cell_type": "code",
   "execution_count": 12,
   "id": "3b411b86",
   "metadata": {},
   "outputs": [
    {
     "data": {
      "text/plain": [
       "           con: array([], dtype=float64)\n",
       " crossover_nit: 0\n",
       "         eqlin:  marginals: array([], dtype=float64)\n",
       "  residual: array([], dtype=float64)\n",
       "           fun: -17850000.0\n",
       "       ineqlin:  marginals: array([-2500.])\n",
       "  residual: array([0.])\n",
       "         lower:  marginals: <MemoryView of 'ndarray' at 0x2999e7a5a68>\n",
       "  residual: array([500., 500., 400.])\n",
       "       message: 'Optimization terminated successfully.'\n",
       "           nit: 0\n",
       "         slack: array([0.])\n",
       "        status: 0\n",
       "       success: True\n",
       "         upper:  marginals: <MemoryView of 'ndarray' at 0x2999e7a58b8>\n",
       "  residual: array([   0., 1500.,    0.])\n",
       "             x: array([4000., 5500., 2500.])"
      ]
     },
     "execution_count": 12,
     "metadata": {},
     "output_type": "execute_result"
    }
   ],
   "source": [
    "# Output opt_highs\n",
    "opt_highs"
   ]
  },
  {
   "cell_type": "code",
   "execution_count": 13,
   "id": "9c843535",
   "metadata": {},
   "outputs": [
    {
     "data": {
      "text/plain": [
       "     con: array([], dtype=float64)\n",
       "     fun: -17849999.968497872\n",
       " message: 'Optimization terminated successfully.'\n",
       "     nit: 6\n",
       "   slack: array([-1.32664245e-05])\n",
       "  status: 0\n",
       " success: True\n",
       "       x: array([3999.99999526, 5499.99999526, 2499.99999621])"
      ]
     },
     "execution_count": 13,
     "metadata": {},
     "output_type": "execute_result"
    }
   ],
   "source": [
    "# Output opt_interior_point\n",
    "opt_interior_point"
   ]
  },
  {
   "cell_type": "code",
   "execution_count": 14,
   "id": "fbb61903",
   "metadata": {},
   "outputs": [
    {
     "data": {
      "text/plain": [
       "     con: array([], dtype=float64)\n",
       "     fun: -17850000.0\n",
       " message: 'Optimization terminated successfully.'\n",
       "     nit: 3\n",
       "   slack: array([0.])\n",
       "  status: 0\n",
       " success: True\n",
       "       x: array([4000., 5500., 2500.])"
      ]
     },
     "execution_count": 14,
     "metadata": {},
     "output_type": "execute_result"
    }
   ],
   "source": [
    "# Output opt_revised_simplex\n",
    "opt_revised_simplex"
   ]
  },
  {
   "cell_type": "code",
   "execution_count": 15,
   "id": "cdde0efc",
   "metadata": {
    "scrolled": true
   },
   "outputs": [
    {
     "data": {
      "text/plain": [
       "     con: array([], dtype=float64)\n",
       "     fun: -17850000.0\n",
       " message: 'Optimization terminated successfully.'\n",
       "     nit: 5\n",
       "   slack: array([0.])\n",
       "  status: 0\n",
       " success: True\n",
       "       x: array([4000., 5500., 2500.])"
      ]
     },
     "execution_count": 15,
     "metadata": {},
     "output_type": "execute_result"
    }
   ],
   "source": [
    "# Output opt_simplex\n",
    "opt_simplex"
   ]
  },
  {
   "cell_type": "code",
   "execution_count": 16,
   "id": "d3915b11",
   "metadata": {},
   "outputs": [],
   "source": [
    "#mazda model cx-3 - n.o of unit manufactured for model cx-3\n",
    "x1 = opt_simplex.x[0] \n",
    "#mazda model cx-5 - n.o of unit manufactured for model cx-5\n",
    "x2 = opt_simplex.x[1] \n",
    "#mazda model cx-9 - n.o of unit manufactured for model cx-9\n",
    "x3 = opt_simplex.x[2] "
   ]
  },
  {
   "cell_type": "code",
   "execution_count": 17,
   "id": "8d9a1dfc",
   "metadata": {},
   "outputs": [
    {
     "name": "stdout",
     "output_type": "stream",
     "text": [
      "Total Maximized Net Profit:17850000.0\n"
     ]
    }
   ],
   "source": [
    "z = 3400*x1 - 2500*x2 + 7200*x3\n",
    "print(\"Total Maximized Net Profit:{0}\".format(z))"
   ]
  }
 ],
 "metadata": {
  "kernelspec": {
   "display_name": "Python 3 (ipykernel)",
   "language": "python",
   "name": "python3"
  },
  "language_info": {
   "codemirror_mode": {
    "name": "ipython",
    "version": 3
   },
   "file_extension": ".py",
   "mimetype": "text/x-python",
   "name": "python",
   "nbconvert_exporter": "python",
   "pygments_lexer": "ipython3",
   "version": "3.7.6"
  }
 },
 "nbformat": 4,
 "nbformat_minor": 5
}
